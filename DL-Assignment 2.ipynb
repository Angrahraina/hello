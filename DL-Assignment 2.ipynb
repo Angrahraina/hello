{
 "cells": [
  {
   "cell_type": "code",
   "execution_count": 2,
   "metadata": {
    "colab": {
     "base_uri": "https://localhost:8080/"
    },
    "id": "bZfHNn98eCtJ",
    "outputId": "1d7ed133-b8e0-497c-a2f8-5e15a5d6c3e0"
   },
   "outputs": [],
   "source": [
    "mnist = tf.keras.datasets.mnist\n",
    "(x_train, y_train), (x_test, y_test) = mnist.load_data()  # Data loading\n",
    "x_train, x_test = x_train / 255.0, x_test / 255.0  # Normalizing the data\n"
   ]
  },
  {
   "cell_type": "markdown",
   "metadata": {},
   "source": [
    "2.Implementing feed forward neural network\n",
    "obj-to learn how to develop a feed ford network \n",
    "theory-A feedforward neural network, also known as a multilayer perceptron (MLP), is a type of artificial neural network commonly used in machine learning and deep learning. It is a foundational and widely used architecture for various tasks, including classification, regression, and function approximation.\n",
    "\n",
    "Key characteristics of a feedforward neural network include:\n",
    "\n",
    "1. **Feedforward Structure:** Information flows in one direction, from the input layer to the output layer, without any cycles or loops. This is in contrast to recurrent neural networks (RNNs) that allow for feedback loops.\n",
    "\n",
    "2. **Layers:** A typical feedforward neural network consists of three main types of layers: an input layer, one or more hidden layers, and an output layer. The input layer receives the raw data or features, the hidden layers process the data, and the output layer produces the network's prediction.\n",
    "\n",
    "3. **Neurons (Nodes):** Neurons are the fundamental units of computation in a neural network. Each neuron in a layer is connected to every neuron in the previous layer (fully connected). Neurons perform weighted summations of their inputs, apply an activation function, and pass the result to the next layer.\n",
    "\n",
    "4. **Weights and Biases:** The connections between neurons have associated weights and biases. These weights are learned during the training process to adjust the network's performance.\n",
    "\n",
    "5. **Activation Functions:** Each neuron typically applies an activation function to the weighted sum of its inputs. Common activation functions include the sigmoid, ReLU (Rectified Linear Unit), and tanh functions. These functions introduce non-linearity into the model, allowing it to learn complex patterns.\n",
    "\n",
    "6. **Training:** Feedforward neural networks are trained using techniques like backpropagation and gradient descent. The network's weights are adjusted iteratively to minimize a loss function, making the network's predictions more accurate.\n",
    "\n",
    "7. **Loss Function:** A loss function measures the error between the network's predictions and the actual target values. The goal of training is to minimize this loss.\n",
    "\n",
    "8. **Optimization Algorithms:** Various optimization algorithms, such as stochastic gradient descent (SGD) and its variants, are used to update the weights during training.\n",
    "\n",
    "9. **\n",
    "Hyperparameters:** The architecture of the network, including the number of layers, the number of neurons in each layer, the choice of activation functions, and other hyperparameters, needs to be set based on the specific problem and dataset.\n",
    "\n",
    "Feedforward neural networks are universal function approximators, meaning they can learn and approximate a wide range of complex functions. They have been used in many applications, including image and speech recognition, natural language processing, and more. However, they have certain limitations, such as difficulty in handling sequential data (for which recurrent neural networks are more suitable) and sensitivity to the choice of hyperparameters during training."
   ]
  },
  {
   "cell_type": "code",
   "execution_count": 1,
   "metadata": {
    "id": "Kffk_IS0d6Si"
   },
   "outputs": [],
   "source": [
    "import tensorflow as tf\n",
    "from tensorflow.keras.models import Sequential\n",
    "from tensorflow.keras.layers import Dense, Dropout, Flatten\n",
    "import matplotlib.pyplot as plt\n",
    "import seaborn as sns"
   ]
  },
  {
   "cell_type": "code",
   "execution_count": 3,
   "metadata": {
    "colab": {
     "base_uri": "https://localhost:8080/",
     "height": 435
    },
    "id": "ciZ2y-ZqeHR4",
    "outputId": "b263ed82-93c2-458d-da91-664374c63440"
   },
   "outputs": [
    {
     "data": {
      "image/png": "[encoded data removed]",
      "text/plain": [
       "<Figure size 432x288 with 2 Axes>"
      ]
     },
     "metadata": {
      "needs_background": "light"
     },
     "output_type": "display_data"
    }
   ],
   "source": [
    "sns.heatmap(x_train[0], cmap='gray')\n",
    "plt.show()"
   ]
  },
  {
   "cell_type": "code",
   "execution_count": 4,
   "metadata": {
    "id": "UkKg5yvxeQh8"
   },
   "outputs": [],
   "source": [
    "model = Sequential([\n",
    "    Flatten(input_shape=(28, 28)),\n",
    "    Dense(128, activation=\"relu\"),\n",
    "    Dropout(0.2),  # Adjust the dropout value as needed, e.g., 0.2 for 20% dropout\n",
    "    Dense(10, activation=\"softmax\")  # Assuming you want 10 units for 10 classes and a softmax activation\n",
    "])"
   ]
  },
  {
   "cell_type": "code",
   "execution_count": 5,
   "metadata": {
    "colab": {
     "base_uri": "https://localhost:8080/"
    },
    "id": "sJJyRkiHeY-t",
    "outputId": "1709e890-05c9-49d8-87ad-6711ca3b2762"
   },
   "outputs": [
    {
     "name": "stdout",
     "output_type": "stream",
     "text": [
      "1/1 [==============================] - 1s 732ms/step\n",
      "[[0.15179627 0.14315663 0.03647582 0.13228387 0.13003364 0.08924159\n",
      "  0.06815899 0.05329464 0.13490824 0.06065026]]\n",
      "[[0.10522898 0.10432375 0.09376749 0.10319561 0.10296366 0.09884807\n",
      "  0.09678591 0.09535789 0.10346679 0.09606189]]\n"
     ]
    }
   ],
   "source": [
    "\n",
    "predictions = model.predict(x_train[:1])\n",
    "print(predictions)\n",
    "print(tf.nn.softmax(predictions).numpy())"
   ]
  },
  {
   "cell_type": "code",
   "execution_count": 6,
   "metadata": {
    "id": "UNE39YR0ecYZ"
   },
   "outputs": [],
   "source": [
    "\n",
    "loss_fn = tf.keras.losses.SparseCategoricalCrossentropy(from_logits=True)\n",
    "model.compile(optimizer=\"adam\", loss=loss_fn, metrics=[\"accuracy\"])"
   ]
  },
  {
   "cell_type": "code",
   "execution_count": 7,
   "metadata": {
    "colab": {
     "base_uri": "https://localhost:8080/"
    },
    "id": "Uhv4uLK3efKZ",
    "outputId": "f0310da5-ca97-4c40-bcb1-8ff38f602712"
   },
   "outputs": [
    {
     "name": "stdout",
     "output_type": "stream",
     "text": [
      "Epoch 1/5\n"
     ]
    },
    {
     "name": "stderr",
     "output_type": "stream",
     "text": [
      "C:\\Users\\praga\\anaconda3\\lib\\site-packages\\keras\\backend.py:5582: UserWarning: \"`sparse_categorical_crossentropy` received `from_logits=True`, but the `output` argument was produced by a Softmax activation and thus does not represent logits. Was this intended?\n",
      "  output, from_logits = _get_logits(\n"
     ]
    },
    {
     "name": "stdout",
     "output_type": "stream",
     "text": [
      "1875/1875 [==============================] - 15s 6ms/step - loss: 0.2939 - accuracy: 0.9142\n",
      "Epoch 2/5\n",
      "1875/1875 [==============================] - 11s 6ms/step - loss: 0.1433 - accuracy: 0.9570\n",
      "Epoch 3/5\n",
      "1875/1875 [==============================] - 11s 6ms/step - loss: 0.1084 - accuracy: 0.9672\n",
      "Epoch 4/5\n",
      "1875/1875 [==============================] - 12s 6ms/step - loss: 0.0882 - accuracy: 0.9732\n",
      "Epoch 5/5\n",
      "1875/1875 [==============================] - 11s 6ms/step - loss: 0.0756 - accuracy: 0.9760\n"
     ]
    },
    {
     "data": {
      "text/plain": [
       "<keras.callbacks.History at 0x26932261820>"
      ]
     },
     "execution_count": 7,
     "metadata": {},
     "output_type": "execute_result"
    }
   ],
   "source": [
    "model.fit(x_train, y_train, epochs=5)"
   ]
  },
  {
   "cell_type": "code",
   "execution_count": 8,
   "metadata": {
    "colab": {
     "base_uri": "https://localhost:8080/"
    },
    "id": "ZC808ARvehbF",
    "outputId": "c0fa0961-d738-488c-f42e-b8a15c39a882"
   },
   "outputs": [
    {
     "name": "stdout",
     "output_type": "stream",
     "text": [
      "1/1 [==============================] - 0s 365ms/step\n",
      "[[1.7749960e-10 5.5252773e-08 1.3215626e-07 1.5369828e-02 2.7090201e-17\n",
      "  9.8463005e-01 1.1002601e-12 4.1512699e-08 2.5205366e-10 5.0281457e-08]]\n",
      "[[0.0855263  0.0855263  0.08552631 0.08685098 0.0855263  0.22893862\n",
      "  0.0855263  0.0855263  0.0855263  0.0855263 ]]\n",
      "Epoch 1/5\n",
      "1875/1875 [==============================] - 14s 6ms/step - loss: 0.0679 - accuracy: 0.9779\n",
      "Epoch 2/5\n",
      "1875/1875 [==============================] - 12s 6ms/step - loss: 0.0582 - accuracy: 0.9814\n",
      "Epoch 3/5\n",
      "1875/1875 [==============================] - 12s 6ms/step - loss: 0.0552 - accuracy: 0.9817\n",
      "Epoch 4/5\n",
      "1875/1875 [==============================] - 12s 6ms/step - loss: 0.0486 - accuracy: 0.9839\n",
      "Epoch 5/5\n",
      "1875/1875 [==============================] - 12s 6ms/step - loss: 0.0452 - accuracy: 0.9849\n"
     ]
    },
    {
     "data": {
      "text/plain": [
       "<keras.callbacks.History at 0x26932511fd0>"
      ]
     },
     "execution_count": 8,
     "metadata": {},
     "output_type": "execute_result"
    }
   ],
   "source": [
    "# Assuming you have defined and compiled the model as shown earlier\n",
    "\n",
    "# Making predictions\n",
    "predictions = model.predict(x_train[:1])\n",
    "print(predictions)\n",
    "print(tf.nn.softmax(predictions).numpy())\n",
    "\n",
    "# Defining loss function and compiling the model\n",
    "loss_fn = tf.keras.losses.SparseCategoricalCrossentropy(from_logits=True)\n",
    "model.compile(optimizer=\"adam\", loss=loss_fn, metrics=[\"accuracy\"])\n",
    "\n",
    "# Training the model\n",
    "model.fit(x_train, y_train, epochs=5)"
   ]
  },
  {
   "cell_type": "code",
   "execution_count": 9,
   "metadata": {
    "colab": {
     "base_uri": "https://localhost:8080/"
    },
    "id": "MNYyPOuIerOD",
    "outputId": "441a7e71-3c2e-4959-fdda-30b89d04fccd"
   },
   "outputs": [
    {
     "name": "stdout",
     "output_type": "stream",
     "text": [
      "313/313 - 2s - loss: 0.0691 - accuracy: 0.9796 - 2s/epoch - 6ms/step\n"
     ]
    },
    {
     "data": {
      "text/plain": [
       "[0.06913923472166061, 0.9796000123023987]"
      ]
     },
     "execution_count": 9,
     "metadata": {},
     "output_type": "execute_result"
    }
   ],
   "source": [
    "model.evaluate(x_test, y_test, verbose=2)"
   ]
  },
  {
   "cell_type": "code",
   "execution_count": null,
   "metadata": {
    "id": "lXSLdy3Ye7Ym"
   },
   "outputs": [],
   "source": []
  },
  {
   "cell_type": "code",
   "execution_count": null,
   "metadata": {},
   "outputs": [],
   "source": []
  },
  {
   "cell_type": "code",
   "execution_count": null,
   "metadata": {},
   "outputs": [],
   "source": []
  }
 ],
 "metadata": {
  "colab": {
   "provenance": []
  },
  "kernelspec": {
   "display_name": "Python 3 (ipykernel)",
   "language": "python",
   "name": "python3"
  },
  "language_info": {
   "codemirror_mode": {
    "name": "ipython",
    "version": 3
   },
   "file_extension": ".py",
   "mimetype": "text/x-python",
   "name": "python",
   "nbconvert_exporter": "python",
   "pygments_lexer": "ipython3",
   "version": "3.9.12"
  }
 },
 "nbformat": 4,
 "nbformat_minor": 1
}
